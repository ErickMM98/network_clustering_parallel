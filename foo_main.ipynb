{
  "nbformat": 4,
  "nbformat_minor": 0,
  "metadata": {
    "colab": {
      "name": "foo_main.ipynb",
      "provenance": [],
      "collapsed_sections": [],
      "authorship_tag": "ABX9TyPpUIysb+a/s25Kcjr5aV1u",
      "include_colab_link": true
    },
    "kernelspec": {
      "display_name": "Python 3",
      "name": "python3"
    },
    "language_info": {
      "name": "python"
    }
  },
  "cells": [
    {
      "cell_type": "markdown",
      "metadata": {
        "id": "view-in-github",
        "colab_type": "text"
      },
      "source": [
        "<a href=\"https://colab.research.google.com/github/ErickMM98/network_clustering_parallel/blob/main/foo_main.ipynb\" target=\"_parent\"><img src=\"https://colab.research.google.com/assets/colab-badge.svg\" alt=\"Open In Colab\"/></a>"
      ]
    },
    {
      "cell_type": "code",
      "metadata": {
        "colab": {
          "base_uri": "https://localhost:8080/"
        },
        "id": "6fa9MKNJafT7",
        "outputId": "d8573789-8700-43c3-d394-24bcb570a4bc"
      },
      "source": [
        "!find / -iname 'libdevice'\n",
        "!find / -iname 'libnvvm.so'"
      ],
      "execution_count": null,
      "outputs": [
        {
          "output_type": "stream",
          "text": [
            "/usr/local/lib/python3.7/dist-packages/jaxlib/cuda/nvvm/libdevice\n",
            "/usr/local/cuda-10.0/nvvm/libdevice\n",
            "/usr/local/cuda-11.0/nvvm/libdevice\n",
            "/usr/local/cuda-10.1/nvvm/libdevice\n",
            "/usr/local/cuda-10.0/nvvm/lib64/libnvvm.so\n",
            "/usr/local/cuda-11.0/nvvm/lib64/libnvvm.so\n",
            "/usr/local/cuda-10.1/nvvm/lib64/libnvvm.so\n"
          ],
          "name": "stdout"
        }
      ]
    },
    {
      "cell_type": "code",
      "metadata": {
        "id": "GprtB743an77"
      },
      "source": [
        "import os\n",
        "os.environ['NUMBAPRO_LIBDEVICE'] = \"/usr/local/cuda-10.1/nvvm/libdevice\"\n",
        "os.environ['NUMBAPRO_NVVM'] = \"/usr/local/cuda-10.1/nvvm/lib64/libnvvm.so\""
      ],
      "execution_count": null,
      "outputs": []
    },
    {
      "cell_type": "code",
      "metadata": {
        "colab": {
          "base_uri": "https://localhost:8080/"
        },
        "id": "5lT6UxFxauAT",
        "outputId": "e60da91e-9f58-4968-b4b8-b1a9517bd598"
      },
      "source": [
        "from numba import cuda\n",
        "import numba\n",
        "print(cuda.gpus)"
      ],
      "execution_count": null,
      "outputs": [
        {
          "output_type": "stream",
          "text": [
            "<Managed Device 0>\n"
          ],
          "name": "stdout"
        }
      ]
    },
    {
      "cell_type": "code",
      "metadata": {
        "id": "aedRtEhsbA0s"
      },
      "source": [
        "import random\n",
        "# biblioteca de Numba\n",
        "from numba import jit\n",
        "\n",
        "#¡¡¡descomentar para optimizar, te vas a sorprender!!!\n",
        "@jit(nopython=True)\n",
        "def get_clustering(D):\n",
        "  #t_diag = np.diag(D**3)\n",
        "  #degree_vector = np.matrix([D[i][0].sum() for i in range(n) ])\n",
        "  #degree_vector_minus_one = degree_vector - 1\n",
        "  #divisor = np.array(degree_vector) * np.array(degree_vector_minus_one)\n",
        "  print(np.diag(np.linalg.matrix_power(D, 3)) )#/ divisor)\n",
        "\n",
        "# t_diag = np.diag(D**3)\n",
        "# degree_vector = np.matrix([D[i][0].sum() for i in range(n) ])\n",
        "# degree_vector_minus_one = degree_vector - 1\n",
        "# divisor = np.array(degree_vector) * np.array(degree_vector_minus_one)\n",
        "# print(t_diag / divisor)"
      ],
      "execution_count": null,
      "outputs": []
    },
    {
      "cell_type": "code",
      "metadata": {
        "id": "QBIUhjNdtcc4"
      },
      "source": [
        "import networkx as nx\n",
        "import matplotlib.pyplot as plt\n",
        "import numpy as np\n",
        "from collections import Counter\n",
        "import time \n",
        "import matplotlib.pyplot as plt\n",
        "#G=nx.karate_club_graph()\n",
        "\n",
        "G = nx.Graph()\n",
        "\n",
        "G.add_edges_from([(1,2),\n",
        "                  (2,3),\n",
        "                  (3,4),\n",
        "                  (4,5),\n",
        "                  (5,2),\n",
        "                  (4,2)])\n",
        "n_g = 15\n",
        "p = 0.5\n",
        "G = nx.generators.random_graphs.binomial_graph(n_g, p)\n",
        "n = G.number_of_nodes()\n",
        "\n",
        "D = nx.adjacency_matrix(G)\n",
        "D = D.toarray()\n",
        "D = np.matrix(D) \n",
        "D = np.array(D)\n",
        "print(D**3)\n",
        "t_i = time.time()\n",
        "get_clustering(D)\n",
        "t_f = time.time()\n",
        "t_m = t_f - t_i\n",
        "\n",
        "print(t_m)\n",
        "#print(degree_vector_minus_one)\n",
        "#print(G.adj.items() )\n",
        "\n",
        "\n",
        "#nodes_nbrs = ((n, G[n]) for n in G.nbunch_iter(nodes))\n",
        "nodes_nbrs = G.adj.items()\n",
        "\n",
        "t_i = time.time()\n",
        "#list_foo = []\n",
        "#print(nx.clustering(G))\n",
        "\"\"\"\n",
        "for v, v_nbrs in nodes_nbrs:\n",
        "    #print(v,v_nbrs)\n",
        "    vs = set(v_nbrs) - {v}\n",
        "    #print(vs)\n",
        "    #print(set(G[v]))\n",
        "    gen_degree = Counter(len(vs & (set(G[w]) - {w})) for w in vs)\n",
        "    #print(gen_degree)\n",
        "    ntriangles = sum(k * val for k, val in gen_degree.items())\n",
        "    list_foo.append(ntriangles)\n",
        "    #print(ntriangles)\n",
        "    #yield (v, len(vs), ntriangles, gen_degree)\n",
        "\"\"\"    \n",
        "t_f = time.time()\n",
        "t_m = t_f - t_i\n",
        "#print(list_foo)\n",
        "print(t_m)"
      ],
      "execution_count": null,
      "outputs": []
    },
    {
      "cell_type": "markdown",
      "metadata": {
        "id": "ETg4zLQ18pES"
      },
      "source": [
        "# Pruebas"
      ]
    },
    {
      "cell_type": "code",
      "metadata": {
        "colab": {
          "base_uri": "https://localhost:8080/"
        },
        "id": "4aLQcUO_8qyJ",
        "outputId": "15d88b66-a393-4879-b0e9-648a48cff6f4"
      },
      "source": [
        "import networkx as nx\n",
        "import matplotlib.pyplot as plt\n",
        "import numpy as np\n",
        "from collections import Counter\n",
        "import time \n",
        "import matplotlib.pyplot as plt\n",
        "\n",
        "\n",
        "n_g = 800\n",
        "p = 0.5\n",
        "G = nx.generators.random_graphs.binomial_graph(n_g, p)\n",
        "n = G.number_of_nodes()\n",
        "\n",
        "D = nx.adjacency_matrix(G)\n",
        "D = D.toarray()\n",
        "D = np.matrix(D) \n",
        "D = np.array(D)\n",
        "#print(D**3\n",
        "t_i = time.time()\n",
        "nx.clustering(G)\n",
        "#print(np.linalg.matrix_power(D,3))\n",
        "t_f = time.time()\n",
        "t_m = t_f - t_i\n",
        "\n",
        "print(t_m)"
      ],
      "execution_count": 14,
      "outputs": [
        {
          "output_type": "stream",
          "text": [
            "15.120669603347778\n"
          ],
          "name": "stdout"
        }
      ]
    },
    {
      "cell_type": "markdown",
      "metadata": {
        "id": "Z2MoysnAEuyr"
      },
      "source": [
        "#Pruebas con C "
      ]
    },
    {
      "cell_type": "code",
      "metadata": {
        "id": "a3MHbLVdEuQI"
      },
      "source": [
        "# variable de tipo String que en si es el programa\n",
        "codigo = \"\"\"\n",
        "#include <stdio.h>\n",
        "#include <stdlib.h>\n",
        "#include <time.h>\n",
        "\n",
        "/*\n",
        "const int N = 3;\n",
        "\n",
        "void foo_function(int arr[N][N]){\n",
        "    int i, j;\n",
        "    for (i = 0; i < N; i++)\n",
        "      for (j = 0; j < N; j++)\n",
        "        arr[i][j] = 0;\n",
        "    \tprintf(\"%d \\t\", arr[i][j]);\n",
        "}\n",
        "*/\n",
        "\n",
        "int main(int argc, char const *argv[]){\n",
        "\tint n = 3000;\n",
        "\tint D[n][n];\n",
        "\tfloat p = 0.8;\n",
        "\tint i,j;\n",
        "\tint **A;\n",
        "\t//foo_function(matrix_a);\n",
        "\t\n",
        "\t//Aquí generamos la matriz\n",
        "\tfor (i = 0; i < n; i++){\n",
        "\t\tfor(j= 0 ; j < n; j++){\n",
        "\t\t\tD[i][j] = 0;\n",
        "\t\t}\n",
        "\t}\n",
        "\n",
        "\tfor (i = 0; i < n; i++){\n",
        "\t\tfor(j= i +1 ; j < n; j++){\n",
        "\t\t\tdouble r = ((double) rand() / (RAND_MAX));\n",
        "\t\t\tprintf(\" %f \\n \", r);\n",
        "\t\t\tif ( r < p){\n",
        "\t\t\t\t\tD[i][j] = 1;\n",
        "\t\t\t\t\tD[j][i] = 1;\n",
        "\t\t\t}\n",
        "\t\t}\n",
        "\t}\n",
        "\n",
        "\t//Hasta aquí tenemos la matriz de adyacencia\n",
        "\n",
        "\n",
        "\t//Esto es para imprimir la matriz\n",
        "\t/*\n",
        "\tfor (i = 0; i < n; i++){\n",
        "\t\tfor(j= 0; j < n; j++){\n",
        "\t\t\tprintf(%d \\t\", D[i][j]);\n",
        "\t\t}\n",
        "\t\tprintf(\"------------ \\n\");\n",
        "\t}\n",
        "\t*/\n",
        "\n",
        "\n",
        "\t//#Primer algoritmo secuencial.\n",
        "\tint number_triagles[n];\n",
        "\tint number_degree[n];\n",
        "\tfloat clustering[n];\n",
        "\n",
        "\t//Sacamos el vector de grados\n",
        "\tfor (int node = 0; node < n; ++node){\n",
        "\t\tint degree = 0;\n",
        "\t\tfor (int k = 0; k < n; ++k){\n",
        "\t\t\tdegree += D[node][k];\n",
        "\t\t}\n",
        "\t\tnumber_degree[node] = degree;\n",
        "\t\t//printf(\"Node %d ------> %d \\n\",node, degree );\n",
        "\t}\n",
        "\n",
        "\t//Sacamos los triángulos\n",
        "\tfor (int node = 0; node < n; ++node){\n",
        "\t\t//printf(\"%ls\\n\", D[node]);\n",
        "\t\tnumber_triagles[node] = 0;\n",
        "\t\tfor (int v = 0; v < n; ++v){\n",
        "\t\t\tint v_comun_v = 0;\n",
        "\t\t\tif ( node != v){\n",
        "\t\t\t\t//printf(\"%d , %d \\n\", node, v );\n",
        "\t\t\t\t//Conteo de triángulos\n",
        "\t\t\t\tif (D[node][v] == 1){\n",
        "\t\t\t\t\tfor (int k = 0; k < n; ++k){\n",
        "\t\t\t\t\t\tv_comun_v += D[node][k] * D[v][k];\n",
        "\t\t\t\t\t}\n",
        "\t\t\t\t}\n",
        "\t\t\t\n",
        "\t\t\t}\n",
        "\t\t\t//Este es el doble de números al cuadrado\n",
        "\t\t\tnumber_triagles[node] += v_comun_v;\n",
        "\t\t}\n",
        "\t\t//typeof(D[node][node]);\n",
        "\t\t//printf(\"%d  --------- %d \\n\", node+1, number_triagles[node]);\n",
        "\t}\n",
        "\n",
        "\t//Sacamos clustering\n",
        "\tfor (int node = 0; node < n; ++node){\n",
        "\t\tfloat t = (float) number_triagles[node];\n",
        "\t\tfloat d = (float) number_degree[node];\n",
        "\t\t//printf(\"%f \\n\", t / (d * (d-1)) );\n",
        "\t}\n",
        "\t//Acaterminaclustering\n",
        "\t\n",
        "}\n",
        "\"\"\""
      ],
      "execution_count": null,
      "outputs": []
    },
    {
      "cell_type": "code",
      "metadata": {
        "id": "pM64BTBFE85a"
      },
      "source": [
        "# se crea el archivo con permisos para escribir mediante python\n",
        "archivo_texto = open(\"hola.c\", \"w\")\n",
        "# se escribe el programa en el archivo \n",
        "archivo_texto.write(codigo)\n",
        "# se cierra el buffer de escritura\n",
        "archivo_texto.close()"
      ],
      "execution_count": null,
      "outputs": []
    },
    {
      "cell_type": "markdown",
      "metadata": {
        "id": "iyRT-Cmw34DC"
      },
      "source": [
        "# Secuencial"
      ]
    },
    {
      "cell_type": "code",
      "metadata": {
        "id": "Yvm_IOIvFBPw",
        "colab": {
          "base_uri": "https://localhost:8080/"
        },
        "outputId": "4996b920-a1a8-4a96-e048-8386abe6addc"
      },
      "source": [
        "!gcc -o sequencial main_sequencial.c\n",
        "!./sequencial"
      ],
      "execution_count": 49,
      "outputs": [
        {
          "output_type": "stream",
          "text": [
            "n , time \n",
            "5 , 0.000004 \n",
            "25 , 0.000129 \n",
            "45 , 0.000588 \n",
            "65 , 0.001803 \n",
            "85 , 0.004119 \n",
            "105 , 0.007838 \n",
            "125 , 0.013512 \n",
            "145 , 0.021025 \n",
            "165 , 0.030514 \n",
            "185 , 0.049236 \n",
            "205 , 0.068397 \n",
            "225 , 0.094327 \n",
            "245 , 0.108564 \n",
            "265 , 0.139467 \n",
            "285 , 0.168929 \n",
            "305 , 0.220251 \n",
            "325 , 0.273975 \n",
            "345 , 0.317544 \n",
            "365 , 0.384724 \n",
            "385 , 0.430228 \n",
            "405 , 0.475293 \n",
            "425 , 0.611068 \n",
            "445 , 0.776042 \n",
            "465 , 0.874660 \n",
            "485 , 0.995597 \n",
            "505 , 1.244076 \n",
            "525 , 1.331676 \n",
            "545 , 1.749010 \n",
            "565 , 1.823776 \n",
            "585 , 2.101964 \n",
            "605 , 3.526283 \n",
            "625 , 2.670388 \n",
            "645 , 5.459533 \n",
            "665 , 4.577064 \n",
            "685 , 8.193859 \n",
            "705 , 5.753129 \n",
            "725 , 3.999679 \n",
            "745 , 5.338454 \n",
            "765 , 6.196447 \n",
            "785 , 7.929352 \n",
            "805 , 6.336577 \n",
            "825 , 5.606652 \n"
          ],
          "name": "stdout"
        }
      ]
    },
    {
      "cell_type": "code",
      "metadata": {
        "id": "8xewcxBjHLn9"
      },
      "source": [
        "!cat foo.c"
      ],
      "execution_count": null,
      "outputs": []
    },
    {
      "cell_type": "code",
      "metadata": {
        "id": "TAJp2tmqGeJn"
      },
      "source": [
        "!./sequencial"
      ],
      "execution_count": 8,
      "outputs": []
    },
    {
      "cell_type": "markdown",
      "metadata": {
        "id": "67Q5TPCW497r"
      },
      "source": [
        "# Paralelo"
      ]
    },
    {
      "cell_type": "code",
      "metadata": {
        "colab": {
          "base_uri": "https://localhost:8080/"
        },
        "id": "gUWCCz5z4_78",
        "outputId": "30fde1ea-d741-4f9e-c413-83567490c4f4"
      },
      "source": [
        "!gcc -fopenmp main_matrix_reduc.c -o paralelo \n",
        "!./paralelo"
      ],
      "execution_count": 50,
      "outputs": [
        {
          "output_type": "stream",
          "text": [
            "n , time \n",
            "5 , 0.000204 \n",
            "25 , 0.000034 \n",
            "45 , 0.000237 \n",
            "65 , 0.000555 \n",
            "85 , 0.001144 \n",
            "105 , 0.002165 \n",
            "125 , 0.003580 \n",
            "145 , 0.010062 \n",
            "165 , 0.010148 \n",
            "185 , 0.013376 \n",
            "205 , 0.018192 \n",
            "225 , 0.038533 \n",
            "245 , 0.032408 \n",
            "265 , 0.039940 \n",
            "285 , 0.042025 \n",
            "305 , 0.047724 \n",
            "325 , 0.058087 \n",
            "345 , 0.069724 \n",
            "365 , 0.078618 \n",
            "385 , 0.093936 \n",
            "405 , 0.105096 \n",
            "425 , 0.115954 \n",
            "445 , 0.137800 \n",
            "465 , 0.155134 \n",
            "485 , 0.184177 \n",
            "505 , 0.221253 \n",
            "525 , 0.241837 \n",
            "545 , 0.265034 \n",
            "565 , 0.300564 \n",
            "585 , 0.296677 \n",
            "605 , 0.327319 \n",
            "625 , 0.362426 \n",
            "645 , 0.394845 \n",
            "665 , 0.437432 \n",
            "685 , 0.466999 \n",
            "705 , 0.515914 \n",
            "725 , 0.554233 \n",
            "745 , 0.606060 \n",
            "765 , 0.651224 \n",
            "785 , 0.722073 \n",
            "805 , 0.759316 \n",
            "825 , 0.814273 \n",
            "845 , 0.935313 \n",
            "865 , 0.950354 \n",
            "885 , 1.013006 \n",
            "905 , 1.159940 \n",
            "925 , 1.151070 \n",
            "945 , 1.224905 \n",
            "965 , 1.299853 \n",
            "985 , 1.400441 \n",
            "1005 , 1.469819 \n"
          ],
          "name": "stdout"
        }
      ]
    }
  ]
}