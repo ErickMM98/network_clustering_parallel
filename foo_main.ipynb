{
  "nbformat": 4,
  "nbformat_minor": 0,
  "metadata": {
    "colab": {
      "name": "foo_main.ipynb",
      "provenance": [],
      "collapsed_sections": [],
      "authorship_tag": "ABX9TyM7BOLPrKd8KS2BX/ca7OQO",
      "include_colab_link": true
    },
    "kernelspec": {
      "display_name": "Python 3",
      "name": "python3"
    },
    "language_info": {
      "name": "python"
    }
  },
  "cells": [
    {
      "cell_type": "markdown",
      "metadata": {
        "id": "view-in-github",
        "colab_type": "text"
      },
      "source": [
        "<a href=\"https://colab.research.google.com/github/ErickMM98/network_clustering_parallel/blob/main/foo_main.ipynb\" target=\"_parent\"><img src=\"https://colab.research.google.com/assets/colab-badge.svg\" alt=\"Open In Colab\"/></a>"
      ]
    },
    {
      "cell_type": "code",
      "metadata": {
        "colab": {
          "base_uri": "https://localhost:8080/"
        },
        "id": "6fa9MKNJafT7",
        "outputId": "d8573789-8700-43c3-d394-24bcb570a4bc"
      },
      "source": [
        "!find / -iname 'libdevice'\n",
        "!find / -iname 'libnvvm.so'"
      ],
      "execution_count": null,
      "outputs": [
        {
          "output_type": "stream",
          "text": [
            "/usr/local/lib/python3.7/dist-packages/jaxlib/cuda/nvvm/libdevice\n",
            "/usr/local/cuda-10.0/nvvm/libdevice\n",
            "/usr/local/cuda-11.0/nvvm/libdevice\n",
            "/usr/local/cuda-10.1/nvvm/libdevice\n",
            "/usr/local/cuda-10.0/nvvm/lib64/libnvvm.so\n",
            "/usr/local/cuda-11.0/nvvm/lib64/libnvvm.so\n",
            "/usr/local/cuda-10.1/nvvm/lib64/libnvvm.so\n"
          ],
          "name": "stdout"
        }
      ]
    },
    {
      "cell_type": "code",
      "metadata": {
        "id": "GprtB743an77"
      },
      "source": [
        "import os\n",
        "os.environ['NUMBAPRO_LIBDEVICE'] = \"/usr/local/cuda-10.1/nvvm/libdevice\"\n",
        "os.environ['NUMBAPRO_NVVM'] = \"/usr/local/cuda-10.1/nvvm/lib64/libnvvm.so\""
      ],
      "execution_count": null,
      "outputs": []
    },
    {
      "cell_type": "code",
      "metadata": {
        "colab": {
          "base_uri": "https://localhost:8080/"
        },
        "id": "5lT6UxFxauAT",
        "outputId": "e60da91e-9f58-4968-b4b8-b1a9517bd598"
      },
      "source": [
        "from numba import cuda\n",
        "import numba\n",
        "print(cuda.gpus)"
      ],
      "execution_count": null,
      "outputs": [
        {
          "output_type": "stream",
          "text": [
            "<Managed Device 0>\n"
          ],
          "name": "stdout"
        }
      ]
    },
    {
      "cell_type": "code",
      "metadata": {
        "id": "aedRtEhsbA0s"
      },
      "source": [
        "import random\n",
        "# biblioteca de Numba\n",
        "from numba import jit\n",
        "\n",
        "#¡¡¡descomentar para optimizar, te vas a sorprender!!!\n",
        "@jit(nopython=True)\n",
        "def get_clustering(D):\n",
        "  #t_diag = np.diag(D**3)\n",
        "  #degree_vector = np.matrix([D[i][0].sum() for i in range(n) ])\n",
        "  #degree_vector_minus_one = degree_vector - 1\n",
        "  #divisor = np.array(degree_vector) * np.array(degree_vector_minus_one)\n",
        "  print(np.diag(np.linalg.matrix_power(D, 3)) )#/ divisor)\n",
        "\n",
        "# t_diag = np.diag(D**3)\n",
        "# degree_vector = np.matrix([D[i][0].sum() for i in range(n) ])\n",
        "# degree_vector_minus_one = degree_vector - 1\n",
        "# divisor = np.array(degree_vector) * np.array(degree_vector_minus_one)\n",
        "# print(t_diag / divisor)"
      ],
      "execution_count": null,
      "outputs": []
    },
    {
      "cell_type": "code",
      "metadata": {
        "id": "QBIUhjNdtcc4"
      },
      "source": [
        "import networkx as nx\n",
        "import matplotlib.pyplot as plt\n",
        "import numpy as np\n",
        "from collections import Counter\n",
        "import time \n",
        "import matplotlib.pyplot as plt\n",
        "#G=nx.karate_club_graph()\n",
        "\n",
        "G = nx.Graph()\n",
        "\n",
        "G.add_edges_from([(1,2),\n",
        "                  (2,3),\n",
        "                  (3,4),\n",
        "                  (4,5),\n",
        "                  (5,2),\n",
        "                  (4,2)])\n",
        "n_g = 15\n",
        "p = 0.5\n",
        "G = nx.generators.random_graphs.binomial_graph(n_g, p)\n",
        "n = G.number_of_nodes()\n",
        "\n",
        "D = nx.adjacency_matrix(G)\n",
        "D = D.toarray()\n",
        "D = np.matrix(D) \n",
        "D = np.array(D)\n",
        "print(D**3)\n",
        "t_i = time.time()\n",
        "get_clustering(D)\n",
        "t_f = time.time()\n",
        "t_m = t_f - t_i\n",
        "\n",
        "print(t_m)\n",
        "#print(degree_vector_minus_one)\n",
        "#print(G.adj.items() )\n",
        "\n",
        "\n",
        "#nodes_nbrs = ((n, G[n]) for n in G.nbunch_iter(nodes))\n",
        "nodes_nbrs = G.adj.items()\n",
        "\n",
        "t_i = time.time()\n",
        "#list_foo = []\n",
        "#print(nx.clustering(G))\n",
        "\"\"\"\n",
        "for v, v_nbrs in nodes_nbrs:\n",
        "    #print(v,v_nbrs)\n",
        "    vs = set(v_nbrs) - {v}\n",
        "    #print(vs)\n",
        "    #print(set(G[v]))\n",
        "    gen_degree = Counter(len(vs & (set(G[w]) - {w})) for w in vs)\n",
        "    #print(gen_degree)\n",
        "    ntriangles = sum(k * val for k, val in gen_degree.items())\n",
        "    list_foo.append(ntriangles)\n",
        "    #print(ntriangles)\n",
        "    #yield (v, len(vs), ntriangles, gen_degree)\n",
        "\"\"\"    \n",
        "t_f = time.time()\n",
        "t_m = t_f - t_i\n",
        "#print(list_foo)\n",
        "print(t_m)"
      ],
      "execution_count": null,
      "outputs": []
    },
    {
      "cell_type": "markdown",
      "metadata": {
        "id": "ETg4zLQ18pES"
      },
      "source": [
        "# Pruebas"
      ]
    },
    {
      "cell_type": "code",
      "metadata": {
        "colab": {
          "background_save": true
        },
        "id": "4aLQcUO_8qyJ",
        "outputId": "79bf7381-061b-4fee-98cd-85cb05bf3bef"
      },
      "source": [
        "import networkx as nx\n",
        "import matplotlib.pyplot as plt\n",
        "import numpy as np\n",
        "from collections import Counter\n",
        "import time \n",
        "import matplotlib.pyplot as plt\n",
        "\n",
        "\n",
        "n_g = 15\n",
        "p = 0.5\n",
        "G = nx.generators.random_graphs.binomial_graph(n_g, p)\n",
        "n = G.number_of_nodes()\n",
        "\n",
        "D = nx.adjacency_matrix(G)\n",
        "D = D.toarray()\n",
        "D = np.matrix(D) \n",
        "D = np.array(D)\n",
        "#print(D**3\n",
        "t_i = time.time()\n",
        "#get_clustering(D)\n",
        "print(np.linalg.matrix_power(D,3))\n",
        "t_f = time.time()\n",
        "t_m = t_f - t_i\n",
        "\n",
        "print(t_m)"
      ],
      "execution_count": null,
      "outputs": [
        {
          "output_type": "stream",
          "text": [
            "[[14 21 10 11 21 18 13 22 18  9 28 17 16  8 22]\n",
            " [21 12 20 17 13 18 11 16 18 15 31 19 12  9 22]\n",
            " [10 20  8  7 17 14 10 13 17  4 17 12 17  6 13]\n",
            " [11 17  7  6 15 11  9 12 18  6 22 12 10  6 11]\n",
            " [21 13 17 15 10 11 10 13 20 10 27 18 11 12 15]\n",
            " [18 18 14 11 11  8  9 13 13  5 15 20 17  9 13]\n",
            " [13 11 10  9 10  9 10 17 13 12 24 19  9 11 13]\n",
            " [22 16 13 12 13 13 17 18 23 10 31 23 14 10 21]\n",
            " [18 18 17 18 20 13 13 23 14  8 21 24 22 11 24]\n",
            " [ 9 15  4  6 10  5 12 10  8  2  9 10 15 10  9]\n",
            " [28 31 17 22 27 15 24 31 21  9 30 32 31 20 31]\n",
            " [17 19 12 12 18 20 19 23 24 10 32 20 20 10 25]\n",
            " [16 12 17 10 11 17  9 14 22 15 31 20 10  7 15]\n",
            " [ 8  9  6  6 12  9 11 10 11 10 20 10  7  6 11]\n",
            " [22 22 13 11 15 13 13 21 24  9 31 25 15 11 18]]\n",
            "0.0019054412841796875\n"
          ],
          "name": "stdout"
        }
      ]
    },
    {
      "cell_type": "markdown",
      "metadata": {
        "id": "Z2MoysnAEuyr"
      },
      "source": [
        "#Pruebas con C "
      ]
    },
    {
      "cell_type": "code",
      "metadata": {
        "id": "a3MHbLVdEuQI"
      },
      "source": [
        "# variable de tipo String que en si es el programa\n",
        "codigo = \"\"\"\n",
        "#include <stdio.h>\n",
        "#include <stdlib.h>\n",
        "#include <time.h>\n",
        "\n",
        "/*\n",
        "const int N = 3;\n",
        "\n",
        "void foo_function(int arr[N][N]){\n",
        "    int i, j;\n",
        "    for (i = 0; i < N; i++)\n",
        "      for (j = 0; j < N; j++)\n",
        "        arr[i][j] = 0;\n",
        "    \tprintf(\"%d \\t\", arr[i][j]);\n",
        "}\n",
        "*/\n",
        "\n",
        "int main(int argc, char const *argv[]){\n",
        "\tint n = 3000;\n",
        "\tint D[n][n];\n",
        "\tfloat p = 0.8;\n",
        "\tint i,j;\n",
        "\tint **A;\n",
        "\t//foo_function(matrix_a);\n",
        "\t\n",
        "\t//Aquí generamos la matriz\n",
        "\tfor (i = 0; i < n; i++){\n",
        "\t\tfor(j= 0 ; j < n; j++){\n",
        "\t\t\tD[i][j] = 0;\n",
        "\t\t}\n",
        "\t}\n",
        "\n",
        "\tfor (i = 0; i < n; i++){\n",
        "\t\tfor(j= i +1 ; j < n; j++){\n",
        "\t\t\tdouble r = ((double) rand() / (RAND_MAX));\n",
        "\t\t\tprintf(\" %f \\n \", r);\n",
        "\t\t\tif ( r < p){\n",
        "\t\t\t\t\tD[i][j] = 1;\n",
        "\t\t\t\t\tD[j][i] = 1;\n",
        "\t\t\t}\n",
        "\t\t}\n",
        "\t}\n",
        "\n",
        "\t//Hasta aquí tenemos la matriz de adyacencia\n",
        "\n",
        "\n",
        "\t//Esto es para imprimir la matriz\n",
        "\t/*\n",
        "\tfor (i = 0; i < n; i++){\n",
        "\t\tfor(j= 0; j < n; j++){\n",
        "\t\t\tprintf(%d \\t\", D[i][j]);\n",
        "\t\t}\n",
        "\t\tprintf(\"------------ \\n\");\n",
        "\t}\n",
        "\t*/\n",
        "\n",
        "\n",
        "\t//#Primer algoritmo secuencial.\n",
        "\tint number_triagles[n];\n",
        "\tint number_degree[n];\n",
        "\tfloat clustering[n];\n",
        "\n",
        "\t//Sacamos el vector de grados\n",
        "\tfor (int node = 0; node < n; ++node){\n",
        "\t\tint degree = 0;\n",
        "\t\tfor (int k = 0; k < n; ++k){\n",
        "\t\t\tdegree += D[node][k];\n",
        "\t\t}\n",
        "\t\tnumber_degree[node] = degree;\n",
        "\t\t//printf(\"Node %d ------> %d \\n\",node, degree );\n",
        "\t}\n",
        "\n",
        "\t//Sacamos los triángulos\n",
        "\tfor (int node = 0; node < n; ++node){\n",
        "\t\t//printf(\"%ls\\n\", D[node]);\n",
        "\t\tnumber_triagles[node] = 0;\n",
        "\t\tfor (int v = 0; v < n; ++v){\n",
        "\t\t\tint v_comun_v = 0;\n",
        "\t\t\tif ( node != v){\n",
        "\t\t\t\t//printf(\"%d , %d \\n\", node, v );\n",
        "\t\t\t\t//Conteo de triángulos\n",
        "\t\t\t\tif (D[node][v] == 1){\n",
        "\t\t\t\t\tfor (int k = 0; k < n; ++k){\n",
        "\t\t\t\t\t\tv_comun_v += D[node][k] * D[v][k];\n",
        "\t\t\t\t\t}\n",
        "\t\t\t\t}\n",
        "\t\t\t\n",
        "\t\t\t}\n",
        "\t\t\t//Este es el doble de números al cuadrado\n",
        "\t\t\tnumber_triagles[node] += v_comun_v;\n",
        "\t\t}\n",
        "\t\t//typeof(D[node][node]);\n",
        "\t\t//printf(\"%d  --------- %d \\n\", node+1, number_triagles[node]);\n",
        "\t}\n",
        "\n",
        "\t//Sacamos clustering\n",
        "\tfor (int node = 0; node < n; ++node){\n",
        "\t\tfloat t = (float) number_triagles[node];\n",
        "\t\tfloat d = (float) number_degree[node];\n",
        "\t\t//printf(\"%f \\n\", t / (d * (d-1)) );\n",
        "\t}\n",
        "\t//Acaterminaclustering\n",
        "\t\n",
        "}\n",
        "\"\"\""
      ],
      "execution_count": 17,
      "outputs": []
    },
    {
      "cell_type": "code",
      "metadata": {
        "id": "pM64BTBFE85a"
      },
      "source": [
        "# se crea el archivo con permisos para escribir mediante python\n",
        "archivo_texto = open(\"hola.c\", \"w\")\n",
        "# se escribe el programa en el archivo \n",
        "archivo_texto.write(codigo)\n",
        "# se cierra el buffer de escritura\n",
        "archivo_texto.close()"
      ],
      "execution_count": 18,
      "outputs": []
    },
    {
      "cell_type": "code",
      "metadata": {
        "id": "Yvm_IOIvFBPw"
      },
      "source": [
        "!gcc -o foo foo.c"
      ],
      "execution_count": 43,
      "outputs": []
    },
    {
      "cell_type": "code",
      "metadata": {
        "id": "8xewcxBjHLn9"
      },
      "source": [
        "!cat foo.c"
      ],
      "execution_count": null,
      "outputs": []
    },
    {
      "cell_type": "code",
      "metadata": {
        "id": "TAJp2tmqGeJn"
      },
      "source": [
        "!./foo"
      ],
      "execution_count": 47,
      "outputs": []
    }
  ]
}